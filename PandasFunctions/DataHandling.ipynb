{
 "cells": [
  {
   "cell_type": "code",
   "execution_count": null,
   "metadata": {},
   "outputs": [],
   "source": [
    "### Covered in this section are the following concepts:\n",
    "# Reading data (CSV, Excel)\n",
    "# Viewing and Inspecting data\n",
    "# Selecting and Filtering data\n",
    "\n",
    "### Library Imports\n",
    "import pandas as pd"
   ]
  }
 ],
 "metadata": {
  "language_info": {
   "name": "python"
  }
 },
 "nbformat": 4,
 "nbformat_minor": 2
}
