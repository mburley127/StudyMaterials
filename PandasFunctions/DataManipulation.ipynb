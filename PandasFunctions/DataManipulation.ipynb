{
 "cells": [
  {
   "cell_type": "code",
   "execution_count": null,
   "metadata": {},
   "outputs": [],
   "source": [
    "### Covered in this section are the following concepts:\n",
    "# Adding, removing, and modifying columns\n",
    "# Handling missing data\n",
    "# Data types and conversions\n",
    "# Grouping and Aggregating data\n",
    "# Merging, Joining, and Concatenating data\n",
    "\n",
    "### Library Imports\n",
    "import pandas as pd"
   ]
  }
 ],
 "metadata": {
  "kernelspec": {
   "display_name": "base",
   "language": "python",
   "name": "python3"
  },
  "language_info": {
   "name": "python",
   "version": "3.8.18"
  }
 },
 "nbformat": 4,
 "nbformat_minor": 2
}
