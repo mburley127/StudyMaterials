{
 "cells": [
  {
   "cell_type": "code",
   "execution_count": null,
   "metadata": {},
   "outputs": [],
   "source": [
    "### Covered in this section are the following concepts:\n",
    "# Loops\n",
    "# Conditional Statements\n",
    "# Exception Handling"
   ]
  },
  {
   "cell_type": "markdown",
   "metadata": {},
   "source": [
    "### Python Loops and Control Statements\n",
    "\n",
    "### For Loop\n",
    "A `for` loop is used to iterate over a sequence (such as a list, tuple, string, or range). It executes a block of code repeatedly for each item in the sequence.\n",
    "\n",
    "### While Loop\n",
    "A `while` loop continues to execute a block of code as long as a specified condition is true. It is often used when the number of iterations is unknown beforehand.\n",
    "\n",
    "### Break Statement\n",
    "The `break` statement is used to exit a loop prematurely. When encountered, it immediately stops the loop and transfers control to the next statement outside the loop.\n",
    "\n",
    "### Nested Loops\n",
    "Nested loops are loops within loops. The inner loop completes all its iterations for each iteration of the outer loop."
   ]
  },
  {
   "cell_type": "code",
   "execution_count": 8,
   "metadata": {},
   "outputs": [
    {
     "name": "stdout",
     "output_type": "stream",
     "text": [
      "9\n",
      "21\n"
     ]
    }
   ],
   "source": [
    "### While Loops\n",
    "''' \n",
    "The Collatz sequence is defined as follows for a given number n:\n",
    "    If n is even, the next number in the sequence is n / 2.\n",
    "    If n is odd, the next number in the sequence is 3 * n + 1.\n",
    "    The sequence continues until n becomes 1.\n",
    "Write a function that returns the length of the Collatz sequence starting from a given integer n.\n",
    "'''\n",
    "def collatz_sequence_length(n):\n",
    "    # Define count variable\n",
    "    count = 0\n",
    "\n",
    "    while n != 1:\n",
    "        if n % 2 == 0:\n",
    "            n = n / 2\n",
    "        else:\n",
    "            n = 3 * n + 1\n",
    "        count += 1\n",
    "\n",
    "    return count + 1 # Increment by one to determine the final step to 1\n",
    "\n",
    "result = collatz_sequence_length(6)\n",
    "print(result)  # Output: 9\n",
    "\n",
    "result = collatz_sequence_length(19)\n",
    "print(result)  # Output: 21"
   ]
  },
  {
   "cell_type": "code",
   "execution_count": 9,
   "metadata": {},
   "outputs": [
    {
     "name": "stdout",
     "output_type": "stream",
     "text": [
      "(1, 1)\n",
      "None\n"
     ]
    }
   ],
   "source": [
    "### Nested Loops\n",
    "''' \n",
    "Write a function that takes a list of lists (a 2D list) and a target value, and returns a tuple representing the position (row, column) \n",
    "of the first occurrence of the target value in the list. If the target value is not found, the function should return None\n",
    "'''\n",
    "def find_in_matrix(matrix, target):\n",
    "    # Iterate through the rows in the matix\n",
    "    for row_index, row in enumerate(matrix):\n",
    "        # Iterate through the cols in the matix\n",
    "        for col_index, value in enumerate(row):\n",
    "            # Check if the value is the same as the target\n",
    "            if value == target:\n",
    "                return (row_index, col_index)\n",
    "            \n",
    "    return None\n",
    "\n",
    "matrix = [\n",
    "    [1, 2, 3],\n",
    "    [4, 5, 6],\n",
    "    [7, 8, 9]\n",
    "]\n",
    "result = find_in_matrix(matrix, 5)\n",
    "print(result)  # Output: (1, 1)\n",
    "\n",
    "result = find_in_matrix(matrix, 10)\n",
    "print(result)  # Output: None"
   ]
  },
  {
   "cell_type": "markdown",
   "metadata": {},
   "source": [
    "### Python Conditional Statements\n",
    "\n",
    "### If Statement\n",
    "An `if` statement is used to execute a block of code only if a specified condition is true. It allows the program to make decisions and execute certain sections of code based on logical conditions.\n",
    "\n",
    "### Elif Statement\n",
    "The `elif` statement stands for \"else if\" and is used to check multiple conditions after the initial `if` statement. If the first `if` condition is false, the `elif` statement allows the program to evaluate another condition.\n",
    "\n",
    "### Else Statement\n",
    "The `else` statement is used to execute a block of code when none of the previous `if` or `elif` conditions are true. It provides a default action when no conditions are met.\n",
    "\n",
    "### Nested Conditional Statements\n",
    "Nested conditional statements are `if`, `elif`, or `else` statements within other `if`, `elif`, or `else` blocks. They allow for more complex decision-making by evaluating conditions within conditions.\n"
   ]
  },
  {
   "cell_type": "markdown",
   "metadata": {},
   "source": [
    "### Python Exception Handling\n",
    "\n",
    "### Try Statement\n",
    "A `try` statement is used to wrap a block of code that might raise an exception. If an exception occurs within the `try` block, the program will look for a matching `except` block to handle the exception, rather than crashing.\n",
    "\n",
    "### Except Statement\n",
    "The `except` statement is used to catch and handle exceptions that occur in the `try` block. You can specify the type of exception you want to catch or use a generic `except` to catch all exceptions.\n",
    "\n",
    "### Finally Statement\n",
    "The `finally` statement is used to define a block of code that will run no matter what happens in the `try` and `except` blocks. It is often used for cleanup actions, such as closing files or releasing resources, that must occur whether an exception is raised or not."
   ]
  },
  {
   "cell_type": "code",
   "execution_count": 10,
   "metadata": {},
   "outputs": [
    {
     "name": "stdout",
     "output_type": "stream",
     "text": [
      "10\n",
      "23\n"
     ]
    }
   ],
   "source": [
    "### Loops, Conditionals, Exceptions\n",
    "''' \n",
    "Write a function that takes a list of numbers as input and returns the sum of all positive integers in the list. If the list contains \n",
    "non-integer elements, the function should handle the exception by ignoring those elements and continuing with the sum of valid integers\n",
    "'''\n",
    "def sum_of_positive_integers(nums):\n",
    "    # Create sum variable\n",
    "    total = 0\n",
    "\n",
    "    for num in nums:\n",
    "        try:\n",
    "            # check if the current element is an integer (isinstance(num, int)) and if it is greater than 0\n",
    "            if isinstance(num, int) and num > 0:\n",
    "                total += num\n",
    "        except TypeError:\n",
    "            continue\n",
    "\n",
    "    return total\n",
    "\n",
    "result = sum_of_positive_integers([1, -2, 3.5, 'a', 4, 5])\n",
    "print(result)  # Output: 10\n",
    "\n",
    "result = sum_of_positive_integers([10, 'hello', -3, 7, 2.5, 6])\n",
    "print(result)  # Output: 23"
   ]
  }
 ],
 "metadata": {
  "kernelspec": {
   "display_name": "base",
   "language": "python",
   "name": "python3"
  },
  "language_info": {
   "codemirror_mode": {
    "name": "ipython",
    "version": 3
   },
   "file_extension": ".py",
   "mimetype": "text/x-python",
   "name": "python",
   "nbconvert_exporter": "python",
   "pygments_lexer": "ipython3",
   "version": "3.8.18"
  }
 },
 "nbformat": 4,
 "nbformat_minor": 2
}
