{
 "cells": [
  {
   "cell_type": "markdown",
   "metadata": {},
   "source": [
    "### List of Python Math Functions with Descriptions\n",
    "\n",
    "#### Built-in Math Functions\n",
    "- **`abs()`**: Returns the absolute value of a number.\n",
    "- **`round()`**: Rounds a number to a specified number of decimal places.\n",
    "- **`max()`**: Returns the largest value in an iterable or among arguments.\n",
    "- **`min()`**: Returns the smallest value in an iterable or among arguments.\n",
    "- **`sum()`**: Sums the items of an iterable.\n",
    "- **`pow()`**: Returns the value of `x` raised to the power of `y`.\n",
    "\n",
    "#### Math Module Functions\n",
    "- **`math.sqrt()`**: Returns the square root of a number.\n",
    "- **`math.ceil()`**: Rounds a number up to the nearest integer.\n",
    "- **`math.floor()`**: Rounds a number down to the nearest integer.\n",
    "- **`math.factorial()`**: Returns the factorial of a number.\n",
    "- **`math.log()`**: Returns the natural logarithm (base `e`) or logarithm with a specified base.\n",
    "- **`math.sin()`**: Returns the sine of an angle (in radians).\n",
    "- **`math.cos()`**: Returns the cosine of an angle (in radians).\n",
    "- **`math.tan()`**: Returns the tangent of an angle (in radians).\n"
   ]
  },
  {
   "cell_type": "code",
   "execution_count": 6,
   "metadata": {},
   "outputs": [
    {
     "name": "stdout",
     "output_type": "stream",
     "text": [
      "[0.0, 0.25, 0.5, 0.75, 1.0]\n",
      "[0.0, 0.25, 0.5, 0.75, 1.0]\n"
     ]
    }
   ],
   "source": [
    "### Problem 1\n",
    "''' \n",
    "Write a function that takes a list of numbers and normalizes them. Normalization in this context means scaling \n",
    "the numbers so that they fall within the range [0, 1]. The formula to normalize a number x in the list is:\n",
    "\n",
    "normalized_x = x − (min_value) / (max_value − min_value)\n",
    "\n",
    "Where min_value is the smallest number in the list and max_value is the largest.\n",
    "'''\n",
    "def normalize(numbers):\n",
    "    # Define result list\n",
    "    normalized = []\n",
    "    # Compute min and max values\n",
    "    min_val = min(numbers)\n",
    "    max_val = max(numbers)\n",
    "    # Loop over the list to compute each value\n",
    "    for num in numbers:\n",
    "        normal_x = (num - min_val) / (max_val - min_val)\n",
    "        normalized.append(round(normal_x, 2))\n",
    "\n",
    "    return normalized\n",
    "\n",
    "result = normalize([1, 2, 3, 4, 5])\n",
    "print(result)  # Output: [0.0, 0.25, 0.5, 0.75, 1.0]\n",
    "\n",
    "result = normalize([5, 10, 15, 20, 25])\n",
    "print(result)  # Output: [0.0, 0.25, 0.5, 0.75, 1.0]\n"
   ]
  },
  {
   "cell_type": "code",
   "execution_count": 9,
   "metadata": {},
   "outputs": [
    {
     "name": "stdout",
     "output_type": "stream",
     "text": [
      "[-1.41, -0.71, 0.0, 0.71, 1.41]\n",
      "[-1.41, -0.71, 0.0, 0.71, 1.41]\n"
     ]
    }
   ],
   "source": [
    "### Problem 2\n",
    "''' \n",
    "Write a function that takes a list of numbers and standardizes them. Standardization (also known as z-score normalization) \n",
    "is the process of scaling the numbers so that they have a mean of 0 and a standard deviation of 1. The formula to \n",
    "standardize a number x in the list is:\n",
    "\n",
    "standardized_x = (x - μ) / σ where μ = mean, and σ = standard dev\n",
    "'''\n",
    "import math \n",
    "\n",
    "def standardize(numbers):\n",
    "    # Define result list\n",
    "    standardized = []\n",
    "    # Compute mean, var, and stddev\n",
    "    mean_val = sum(numbers) / len(numbers)\n",
    "    var = sum((x - mean_val) ** 2 for x in numbers) / len(numbers)\n",
    "    stddev = math.sqrt(var)\n",
    "\n",
    "    # Loop over the list to compute each value\n",
    "    for num in numbers:\n",
    "        # Compute the standard \n",
    "        standardized_value = (num - mean_val) / stddev\n",
    "        standardized.append(round(standardized_value, 2))\n",
    "\n",
    "    return standardized\n",
    "\n",
    "result = standardize([1, 2, 3, 4, 5])\n",
    "print(result)  # Output: [-1.41, -0.71, 0.0, 0.71, 1.41]\n",
    "\n",
    "result = standardize([10, 20, 30, 40, 50])\n",
    "print(result)  # Output: [-1.41, -0.71, 0.0, 0.71, 1.41]\n"
   ]
  },
  {
   "cell_type": "code",
   "execution_count": 17,
   "metadata": {},
   "outputs": [
    {
     "name": "stdout",
     "output_type": "stream",
     "text": [
      "[None, None, 2.0, 3.0, 4.0, 5.0, 6.0, 7.0, 8.0]\n",
      "[None, 15.0, 25.0, 35.0, 45.0]\n"
     ]
    }
   ],
   "source": [
    "### Problem 3\n",
    "''' \n",
    "Write a function that takes a list of stock prices and an integer k, and returns \n",
    "a list of the moving averages over a window of size k. The moving average is \n",
    "calculated by taking the average of the current price and the previous k-1 prices\n",
    "'''\n",
    "def moving_average(prices, k):\n",
    "    # Create a moving avg list\n",
    "    moving_avg = []\n",
    "    # Loop over indices of prices list\n",
    "    for i in range(len(prices)):\n",
    "        if i < k - 1:\n",
    "            moving_avg.append(None)\n",
    "        else:\n",
    "            # represents the position k elements back from the current index i. For \n",
    "            # example, if i is 5 and k is 3, then i-k+1 would be 5-3+1 = 3\n",
    "            window = prices[i-k+1:i+1]\n",
    "            avg = sum(window) / k\n",
    "            moving_avg.append(round(avg, 2))\n",
    "\n",
    "    return moving_avg\n",
    "\n",
    "result = moving_average([1, 2, 3, 4, 5, 6, 7, 8, 9], 3)\n",
    "print(result)  # Output: [None, None, 2.0, 3.0, 4.0, 5.0, 6.0, 7.0, 8.0]\n",
    "\n",
    "result = moving_average([10, 20, 30, 40, 50], 2)\n",
    "print(result)  # Output: [None, 15.0, 25.0, 35.0, 45.0]\n"
   ]
  }
 ],
 "metadata": {
  "kernelspec": {
   "display_name": "base",
   "language": "python",
   "name": "python3"
  },
  "language_info": {
   "codemirror_mode": {
    "name": "ipython",
    "version": 3
   },
   "file_extension": ".py",
   "mimetype": "text/x-python",
   "name": "python",
   "nbconvert_exporter": "python",
   "pygments_lexer": "ipython3",
   "version": "3.8.18"
  }
 },
 "nbformat": 4,
 "nbformat_minor": 2
}
