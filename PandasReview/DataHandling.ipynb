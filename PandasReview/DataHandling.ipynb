{
 "cells": [
  {
   "cell_type": "code",
   "execution_count": 11,
   "metadata": {},
   "outputs": [],
   "source": [
    "### Covered in this section are the following concepts:\n",
    "# Reading data (CSV, Excel)\n",
    "# Viewing and Inspecting data\n",
    "\n",
    "### Library Imports\n",
    "import pandas as pd\n",
    "import yfinance as yf\n"
   ]
  },
  {
   "cell_type": "markdown",
   "metadata": {},
   "source": [
    "### Reading and Writing Data\n",
    "\n",
    "1. **Reading Data**\n",
    "   - `pd.read_csv('filepath', sep=',', header='infer', usecols=None, dtype=None, parse_dates=False)` - Read data from a CSV file.\n",
    "   - `pd.read_excel()` - Read data from an Excel file.\n",
    "   - `pd.read_json()` - Read data from a JSON formatted string or file.\n",
    "   - `pd.read_sql()` - Read data from a SQL database query.\n",
    "   - `pd.read_html()` - Extract data from HTML tables, typically used for web scraping.\n",
    "\n",
    "2. **Writing Data**\n",
    "   - `DataFrame.to_csv('name_of_project.csv', sep=',', columns=None, header=True, index=False)` - Write DataFrame to a CSV file.\n",
    "   - `DataFrame.to_excel()` - Write DataFrame to an Excel file.\n",
    "   - `DataFrame.to_json()` - Write DataFrame to a JSON formatted string or file.\n",
    "   - `DataFrame.to_sql()` - Write DataFrame to a SQL database table.\n"
   ]
  },
  {
   "cell_type": "code",
   "execution_count": 12,
   "metadata": {},
   "outputs": [],
   "source": [
    "### Reading and Writing Data\n",
    "# Read in stock data from .csv\n",
    "stock_data = pd.read_csv('/Users/mburley/Downloads/stock_data.csv')\n",
    "# Output stock data to .csv\n",
    "stock_data.to_csv('stock_data_check.csv', index = False)"
   ]
  },
  {
   "cell_type": "markdown",
   "metadata": {},
   "source": [
    "#### Data Inspection and Cleaning \n",
    "1. **Viewing Data**\n",
    "   - `DataFrame.head()` - View the first few rows of the DataFrame.\n",
    "   - `DataFrame.tail()` - View the last few rows of the DataFrame.\n",
    "   - `DataFrame.info()` - Get a concise summary of the DataFrame, including column types and non-null values.\n",
    "   - `DataFrame.describe()` - Generate descriptive statistics that summarize the central tendency, dispersion, and shape of a dataset’s distribution."
   ]
  },
  {
   "cell_type": "code",
   "execution_count": 13,
   "metadata": {},
   "outputs": [
    {
     "name": "stdout",
     "output_type": "stream",
     "text": [
      "<class 'pandas.core.frame.DataFrame'>\n",
      "RangeIndex: 146 entries, 0 to 145\n",
      "Data columns (total 3 columns):\n",
      " #   Column  Non-Null Count  Dtype  \n",
      "---  ------  --------------  -----  \n",
      " 0   GOOG    146 non-null    float64\n",
      " 1   AAPL    146 non-null    float64\n",
      " 2   NVDA    146 non-null    float64\n",
      "dtypes: float64(3)\n",
      "memory usage: 3.5 KB\n",
      "None\n",
      "             GOOG        AAPL        NVDA\n",
      "count  146.000000  146.000000  146.000000\n",
      "mean   161.029251  189.870481   92.274136\n",
      "std     16.806053   18.834939   23.586497\n",
      "min    132.409317  164.585999   47.562862\n",
      "25%    145.177303  173.119530   77.871700\n",
      "50%    157.625633  185.182297   89.173676\n",
      "75%    176.585003  195.343193  114.674175\n",
      "max    192.660004  234.548523  135.580002\n"
     ]
    }
   ],
   "source": [
    "### Data Inspection and Cleaning \n",
    "\n",
    "# Print all df info\n",
    "print(stock_data.info())\n",
    "# Print Key Statistics each df column\n",
    "print(stock_data.describe())\n"
   ]
  },
  {
   "cell_type": "markdown",
   "metadata": {},
   "source": [
    "#### Data Inspection and Cleaning\n",
    "\n",
    "2. **Checking and Handling Missing Data**\n",
    "   - `DataFrame.isnull()` - Check for missing values in the DataFrame.\n",
    "   - `DataFrame.notnull()` - Check for non-missing values in the DataFrame.\n",
    "   - `DataFrame.dropna()` - Remove missing values from the DataFrame.\n",
    "   - `DataFrame.fillna()` - Fill missing values in the DataFrame with a specified value or method.\n",
    "\n",
    "3. **Data Type Conversions**\n",
    "   - `DataFrame.astype()` - Convert the data types of one or more columns in the DataFrame.\n",
    "   - `pd.to_datetime()` - Convert argument to datetime format, which is essential for time series analysis in pandas.\n"
   ]
  },
  {
   "cell_type": "code",
   "execution_count": 14,
   "metadata": {},
   "outputs": [
    {
     "data": {
      "text/plain": [
       "GOOG    float64\n",
       "AAPL    float64\n",
       "NVDA      int64\n",
       "dtype: object"
      ]
     },
     "execution_count": 14,
     "metadata": {},
     "output_type": "execute_result"
    }
   ],
   "source": [
    "### Data Inspection and Cleaning\n",
    "\n",
    "# Drop null values in the df\n",
    "stock_data.dropna(inplace = True)  # Use inplace=True to modify the DataFrame directly\n",
    "\n",
    "# Check if any values in the AAPL column are null\n",
    "stock_data['AAPL'].isnull().tail()\n",
    "\n",
    "# Convert the NVDA column to int\n",
    "stock_data['NVDA'] = stock_data['NVDA'].astype(int)  # Assign back to column to save changes\n",
    "\n",
    "# Convert Date column to Datetime dtype\n",
    "#stock_data['Date'] = pd.to_datetime(stock_data['Date'])  # Correct method call, must include pd.\n",
    "\n",
    "# Check work\n",
    "stock_data.dtypes\n"
   ]
  }
 ],
 "metadata": {
  "kernelspec": {
   "display_name": "base",
   "language": "python",
   "name": "python3"
  },
  "language_info": {
   "codemirror_mode": {
    "name": "ipython",
    "version": 3
   },
   "file_extension": ".py",
   "mimetype": "text/x-python",
   "name": "python",
   "nbconvert_exporter": "python",
   "pygments_lexer": "ipython3",
   "version": "3.8.18"
  }
 },
 "nbformat": 4,
 "nbformat_minor": 2
}
