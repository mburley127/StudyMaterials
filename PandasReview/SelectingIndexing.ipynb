{
 "cells": [
  {
   "cell_type": "code",
   "execution_count": 1,
   "metadata": {},
   "outputs": [],
   "source": [
    "### Covered in this section are the following concepts:\n",
    "# Indexing options\n",
    "# Conditional selections\n",
    "\n",
    "### Library Imports\n",
    "import pandas as pd\n",
    "\n",
    "### Dataframe Creation\n",
    "df1 = pd.DataFrame({\n",
    "    'Item': ['Laptop', 'Tablet', 'Laptop', 'Phone', 'Tablet', 'Phone', 'Laptop', 'Tablet'],\n",
    "    'Date_Bought': ['2023-01-01', '2023-01-03', '2023-01-05', '2023-01-07', '2023-01-09', '2023-01-11', '2023-01-13', '2023-01-15'],\n",
    "    'Date_Sold': ['2023-01-10', '2023-01-12', '2023-01-15', '2023-01-18', '2023-01-20', '2023-01-22', '2023-01-25', '2023-01-28'],\n",
    "    'Amount': [1000, 600, 1200, 800, 650, 850, 1300, 700],\n",
    "    'Profit': [200, 100, 250, 150, 120, 180, 300, 130]\n",
    "})\n"
   ]
  },
  {
   "cell_type": "markdown",
   "metadata": {},
   "source": [
    "#### Indexing Options\n",
    "\n",
    "- `DataFrame.iloc[]` - Access rows and columns by integer-based indices (position-based).\n",
    "  - **Example:** `df.iloc[0, 1]` - Access the element at the first row and second column.\n",
    "  - **Example:** `df.iloc[:, :3]` - Access all rows and the first three columns.\n",
    "\n",
    "- `DataFrame.loc[]` - Access rows and columns by label-based indices (label-based).\n",
    "  - **Example:** `df.loc[0, 'Amount']` - Access the `Amount` column of the first row.\n",
    "  - **Example:** `df.loc[:, ['Item', 'Profit']]` - Access all rows for the `Item` and `Profit` columns.\n",
    "\n",
    "- `DataFrame['col']` - Access a single column by its name, returning a Series.\n",
    "  - **Example:** `df['Amount']` - Access the `Amount` column.\n",
    "\n",
    "- `DataFrame[['col1', 'col2']]` - Access multiple columns by their names, returning a DataFrame.\n",
    "  - **Example:** `df[['Amount', 'Profit']]` - Access the `Amount` and `Profit` columns.\n",
    "\n",
    "- `DataFrame.at[]` - Access a single value by label (more efficient for scalar access).\n",
    "  - **Example:** `df.at[0, 'Amount']` - Access the value at the first row and the `Amount` column.\n",
    "\n",
    "- `DataFrame.iat[]` - Access a single value by position (more efficient for scalar access).\n",
    "  - **Example:** `df.iat[0, 1]` - Access the value at the first row and the second column.\n",
    "\n",
    "- `DataFrame.xs()` - Access a cross-section of rows or columns, particularly useful for MultiIndex DataFrames.\n",
    "  - **Example:** `df.xs('Laptop', level='Item')` - Access all data for the `Laptop` item in a MultiIndex DataFrame.\n",
    "\n"
   ]
  },
  {
   "cell_type": "code",
   "execution_count": 18,
   "metadata": {},
   "outputs": [],
   "source": [
    "### Indexing Options\n",
    "\n",
    "# Start from the second value (index 1) to the end of the Profit column\n",
    "profits = []\n",
    "for i in range(1, len(df1)):\n",
    "    profits.append(df1['Profit'].iloc[i])\n",
    "\n",
    "# Access the Profit value for the item bought on '2023-01-05'\n",
    "profit_value = df1.loc[df1['Date_Bought'] == '2023-01-05', 'Profit']\n",
    "#print(profit_value)\n",
    "\n",
    "# Select all rows for the columns Item and Profit\n",
    "select_rows = df1.loc[:, ['Item', 'Profit']]\n",
    "# or\n",
    "select_rows2 = df1[['Item', 'Profit']]\n",
    "#print(select_rows2)\n",
    "\n",
    "# Access the Profit value for the first row using label-based scalar access (.at)\n",
    "profit_val = df1.at[0, 'Profit'] # [row, col]\n"
   ]
  },
  {
   "cell_type": "markdown",
   "metadata": {},
   "source": [
    "#### Conditional Filtering\n",
    "\n",
    "- **Using Boolean Indexing** - Filter rows in a DataFrame by applying a condition directly.\n",
    "  - **Example:** `df[df['Profit'] > 150]` - Selects rows where the `Profit` column values are greater than 150.\n",
    "\n",
    "- **`DataFrame.where()`** - Replace values with `NaN` where the condition is False.\n",
    "  - **Example:** `df.where(df['Profit'] > 150)` - Keeps only the rows where the `Profit` is greater than 150, others become `NaN`.\n",
    "\n",
    "- **`DataFrame.query()`** - Query the columns of a DataFrame with a boolean expression.\n",
    "  - **Example:** `df.query('Amount > 1000')` - Selects rows where the `Amount` column values are greater than 1000.\n",
    "\n",
    "- **Using Multiple Conditions** - Apply multiple conditions using logical operators (`&`, `|`, `~`).\n",
    "  - **Example:** `df[(df['Profit'] > 150) & (df['Amount'] < 1000)]` - Selects rows where `Profit` is greater than 150 and `Amount` is less than 1000.\n",
    "\n",
    "- **`DataFrame.mask()`** - Opposite of `where()`, replaces values with `NaN` where the condition is True.\n",
    "  - **Example:** `df.mask(df['Profit'] <= 150)` - Replaces values with `NaN` where the `Profit` is less than or equal to 150.\n"
   ]
  },
  {
   "cell_type": "code",
   "execution_count": 26,
   "metadata": {},
   "outputs": [],
   "source": [
    "### Conditional Selections\n",
    "\n",
    "# Identify all sales transactions where the Item is 'Phone' and the Profit is less than 200.\n",
    "conditional = df1[(df1['Item'] == 'Phone') & (df1['Profit'] < 300)]\n",
    "\n",
    "# Filter the DataFrame to keep only rows where the Date_Sold is after '2023-01-15'\n",
    "total_amt = df1.where(df1['Date_Sold'] > '2023-01-15')\n",
    "\n",
    "# Use a query to find all rows where Item is 'Tablet' and Amount is between 600 and 700\n",
    "tablet_sales = df1.query('Item == \"Tablet\" and 600 <= Amount <= 700')\n",
    "\n",
    "# Select rows where the Date_Bought is before '2023-01-10' and the Profit is at least 150\n",
    "rows = df1[(df1['Date_Bought'] < '2023-01-10') & (df1['Profit'] > 150)]\n"
   ]
  }
 ],
 "metadata": {
  "kernelspec": {
   "display_name": "base",
   "language": "python",
   "name": "python3"
  },
  "language_info": {
   "codemirror_mode": {
    "name": "ipython",
    "version": 3
   },
   "file_extension": ".py",
   "mimetype": "text/x-python",
   "name": "python",
   "nbconvert_exporter": "python",
   "pygments_lexer": "ipython3",
   "version": "3.8.18"
  }
 },
 "nbformat": 4,
 "nbformat_minor": 2
}
