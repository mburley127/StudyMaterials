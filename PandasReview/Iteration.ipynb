{
 "cells": [
  {
   "cell_type": "code",
   "execution_count": 1,
   "metadata": {},
   "outputs": [],
   "source": [
    "### Covered in this section are the following concepts:\n",
    "# Pandas Iteration\n",
    "\n",
    "### Library Imports\n",
    "import pandas as pd\n"
   ]
  },
  {
   "cell_type": "markdown",
   "metadata": {},
   "source": [
    "#### Pandas Iteration\n",
    "\n",
    "- **`DataFrame.iterrows()`** - Iterate over DataFrame rows as (index, Series) pairs.\n",
    "  - **Use Case:** Useful for iterating through rows and performing operations row by row, although it can be slower for large DataFrames.\n",
    "\n",
    "- **`DataFrame.itertuples()`** - Iterate over DataFrame rows as named tuples, which can be more efficient than `iterrows()`.\n",
    "  - **Use Case:** Preferred over `iterrows()` for performance reasons when you need to iterate over DataFrame rows and access multiple columns.\n",
    "\n",
    "- **`DataFrame.apply()`** - Apply a function along an axis of the DataFrame (either rows or columns).\n",
    "  - **Use Case:** Efficient for applying a function to each row or column without explicitly iterating, making it faster and more concise than using loops.\n"
   ]
  },
  {
   "cell_type": "code",
   "execution_count": 2,
   "metadata": {},
   "outputs": [
    {
     "name": "stdout",
     "output_type": "stream",
     "text": [
      "  Employee  Hours_Worked  Hourly_Rate Department\n",
      "0     John            40           15         HR\n",
      "1     Jane            35           20    Finance\n",
      "2      Tom            50           25         IT\n",
      "3     Lucy            30           22    Finance\n",
      "4      Sam            45           18         HR\n"
     ]
    }
   ],
   "source": [
    "### Sample DataFrame\n",
    "data = {\n",
    "    'Employee': ['John', 'Jane', 'Tom', 'Lucy', 'Sam'],\n",
    "    'Hours_Worked': [40, 35, 50, 30, 45],\n",
    "    'Hourly_Rate': [15, 20, 25, 22, 18],\n",
    "    'Department': ['HR', 'Finance', 'IT', 'Finance', 'HR']\n",
    "}\n",
    "\n",
    "df = pd.DataFrame(data)\n",
    "print(df)"
   ]
  },
  {
   "cell_type": "code",
   "execution_count": 4,
   "metadata": {},
   "outputs": [
    {
     "name": "stdout",
     "output_type": "stream",
     "text": [
      "  Employee  Hours_Worked  Hourly_Rate Department  Total_Pay\n",
      "0     John            40           15         HR      600.0\n",
      "1     Jane            35           20    Finance      700.0\n",
      "2      Tom            50           25         IT     1250.0\n",
      "3     Lucy            30           22    Finance      660.0\n",
      "4      Sam            45           18         HR      810.0\n"
     ]
    }
   ],
   "source": [
    "### Iterrows problem\n",
    "# Calculate the total pay for each employee and create a new column Total_Pay in the DataFrame using iterrows()\n",
    "# Total pay is calculated as Hours_Worked * Hourly_Rate for each employee\n",
    "for index, row in df.iterrows():\n",
    "    df.at[index, 'Total_Pay'] = row['Hours_Worked'] * row['Hourly_Rate']\n",
    "\n",
    "print(df)"
   ]
  },
  {
   "cell_type": "code",
   "execution_count": null,
   "metadata": {},
   "outputs": [],
   "source": [
    "### Iterrows Problem\n",
    "''' \n",
    "Problem: Calculate the bonus for each employee based on their department and hours worked, and create a new column Bonus using apply():\n",
    "    Employees in HR get a bonus of 10% of their total pay if they worked more than 40 hours.\n",
    "    Employees in Finance get a bonus of 15% of their total pay if they worked more than 30 hours.\n",
    "    Employees in IT get a flat bonus of $200 regardless of hours worked.\n",
    "'''\n",
    "# Create base function \n",
    "def bonus_program(df):\n",
    "    for index, row in df.iterrows():\n",
    "        # Cases for bonus structure\n",
    "        if row['Hours_Worked'] > 40 and row['Department'] == 'HR':\n",
    "            df.at[index, 'Bonus'] = 0.1 * row['Total_Pay']\n",
    "\n",
    "        elif row['Hours_Worked'] > 30 and row['Department'] == 'Finance':\n",
    "            df.at[index, 'Bonus'] = 0.15 * row['Total_Pay']\n",
    "\n",
    "        elif row['Department'] == 'IT':\n",
    "            df.at[index, 'Bonus'] = 200\n",
    "\n",
    "    return df\n",
    "\n",
    "# Return function via apply\n",
    "bonus_df = bonus_program(df)\n",
    "print(df)"
   ]
  },
  {
   "cell_type": "code",
   "execution_count": 9,
   "metadata": {},
   "outputs": [
    {
     "name": "stdout",
     "output_type": "stream",
     "text": [
      "Employee: Jane, Total Pay: 700.0\n"
     ]
    }
   ],
   "source": [
    "### Itertuples Problem\n",
    "# Identify employees in the Finance department who worked more than 30 hours and print their names and total pay using itertuples()\n",
    "for row in df.itertuples():\n",
    "    if row.Department == 'Finance' and row.Hours_Worked > 30:\n",
    "        print(f'Employee: {row.Employee}, Total Pay: {row.Total_Pay}')\n"
   ]
  },
  {
   "cell_type": "code",
   "execution_count": 23,
   "metadata": {},
   "outputs": [
    {
     "name": "stdout",
     "output_type": "stream",
     "text": [
      "  Employee  Hours_Worked  Hourly_Rate Department  Total_Pay  Bonus\n",
      "0     John            40           15         HR      600.0    0.0\n",
      "1     Jane            35           20    Finance      700.0  105.0\n",
      "2      Tom            50           25         IT     1250.0  200.0\n",
      "3     Lucy            30           22    Finance      660.0    0.0\n",
      "4      Sam            45           18         HR      810.0   81.0\n"
     ]
    }
   ],
   "source": [
    "### Apply Problem\n",
    "''' \n",
    "Problem: Calculate the bonus for each employee based on their department and hours worked, and create a new column Bonus using apply():\n",
    "    Employees in HR get a bonus of 10% of their total pay if they worked more than 40 hours.\n",
    "    Employees in Finance get a bonus of 15% of their total pay if they worked more than 30 hours.\n",
    "    Employees in IT get a flat bonus of $200 regardless of hours worked.\n",
    "'''\n",
    "# Using apply to calculate Bonus\n",
    "def calculate_bonus(row):\n",
    "    total_pay = row['Hours_Worked'] * row['Hourly_Rate']\n",
    "    if row['Department'] == 'HR' and row['Hours_Worked'] > 40:\n",
    "        return total_pay * 0.10\n",
    "    elif row['Department'] == 'Finance' and row['Hours_Worked'] > 30:\n",
    "        return total_pay * 0.15\n",
    "    elif row['Department'] == 'IT':\n",
    "        return 200\n",
    "    else:\n",
    "        return 0\n",
    "\n",
    "df['Bonus'] = df.apply(calculate_bonus, axis = 1)\n",
    "print(df)\n"
   ]
  }
 ],
 "metadata": {
  "kernelspec": {
   "display_name": "base",
   "language": "python",
   "name": "python3"
  },
  "language_info": {
   "codemirror_mode": {
    "name": "ipython",
    "version": 3
   },
   "file_extension": ".py",
   "mimetype": "text/x-python",
   "name": "python",
   "nbconvert_exporter": "python",
   "pygments_lexer": "ipython3",
   "version": "3.8.18"
  }
 },
 "nbformat": 4,
 "nbformat_minor": 2
}
