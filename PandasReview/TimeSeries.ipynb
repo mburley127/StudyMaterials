{
 "cells": [
  {
   "cell_type": "code",
   "execution_count": 11,
   "metadata": {},
   "outputs": [],
   "source": [
    "### Covered in this section are the following concepts:\n",
    "# Window Functions\n",
    "# Shift/Lag Analysis\n",
    "\n",
    "\n",
    "### Library Imports\n",
    "import pandas as pd\n",
    "import yfinance as yf"
   ]
  },
  {
   "cell_type": "code",
   "execution_count": 12,
   "metadata": {},
   "outputs": [
    {
     "name": "stderr",
     "output_type": "stream",
     "text": [
      "[*********************100%%**********************]  1 of 1 completed\n",
      "[*********************100%%**********************]  1 of 1 completed\n",
      "[*********************100%%**********************]  1 of 1 completed"
     ]
    },
    {
     "name": "stdout",
     "output_type": "stream",
     "text": [
      "          Date        GOOG        AAPL        NVDA\n",
      "141 2024-07-25  169.160004  217.238556  112.279999\n",
      "142 2024-07-26  168.679993  217.708008  113.059998\n",
      "143 2024-07-29  171.130005  217.987686  111.589996\n",
      "144 2024-07-30  171.860001  218.547043  103.730003\n",
      "145 2024-07-31  173.149994  221.823242  117.019997\n"
     ]
    },
    {
     "name": "stderr",
     "output_type": "stream",
     "text": [
      "\n"
     ]
    }
   ],
   "source": [
    "### Create a Function to Populate the DataFrame\n",
    "def get_data(tickers, start_date, end_date):\n",
    "    # Create an empty DataFrame\n",
    "    stock_data = pd.DataFrame()\n",
    "    # Populate the DataFrame with adjusted close prices for each ticker\n",
    "    for ticker in tickers:\n",
    "        # Download data for the current ticker\n",
    "        stock_data[ticker] = yf.download(ticker, start = start_date, end = end_date)['Adj Close']\n",
    "    \n",
    "    # Reset the index to turn the Date index into a column\n",
    "    stock_data_reset = stock_data.reset_index()\n",
    "\n",
    "    return stock_data_reset\n",
    "\n",
    "# Function Call\n",
    "tickers = ['GOOG', 'AAPL', 'NVDA']\n",
    "start_date = '2024-01-01'\n",
    "end_date = '2024-08-01'\n",
    "stock_data = get_data(tickers, start_date, end_date)\n",
    "\n",
    "# Now you can access the Date column directly\n",
    "print(stock_data.tail())"
   ]
  },
  {
   "cell_type": "markdown",
   "metadata": {},
   "source": [
    "#### Window Functions\n",
    "\n",
    "- **`DataFrame.rolling()`** - Perform calculations over a fixed-size sliding window across the data.\n",
    "  - **Use Case:** Calculates the _ day Simple Moving Average (SMA).\n",
    "\n",
    "- **`DataFrame.ewm()`** - Apply exponential weighting to data points, giving more weight to recent observations.\n",
    "  - **Use Case:** Calculates the _ day Exponential Moving Average (EMA).\n",
    "\n",
    "- **`DataFrame.expanding()`** - Perform cumulative operations that include all data points up to the current point.\n",
    "  - **Use Case:** Calculates the cumulative sum of a specified column.\n"
   ]
  },
  {
   "cell_type": "code",
   "execution_count": 13,
   "metadata": {},
   "outputs": [
    {
     "name": "stdout",
     "output_type": "stream",
     "text": [
      "          Date        GOOG        AAPL        NVDA      10_SMA     20_EWMA  \\\n",
      "141 2024-07-25  169.160004  217.238556  112.279999  121.371000  122.033601   \n",
      "142 2024-07-26  168.679993  217.708008  113.059998  119.752999  121.178972   \n",
      "143 2024-07-29  171.130005  217.987686  111.589996  118.067999  120.265736   \n",
      "144 2024-07-30  171.860001  218.547043  103.730003  115.804999  118.690905   \n",
      "145 2024-07-31  173.149994  221.823242  117.019997  115.707999  118.531771   \n",
      "\n",
      "          Cum_Sum     Roll_Sum  \n",
      "141  13026.623875  1213.709999  \n",
      "142  13139.683872  1197.529991  \n",
      "143  13251.273869  1180.679985  \n",
      "144  13355.003872  1158.049988  \n",
      "145  13472.023869  1157.079987  \n"
     ]
    }
   ],
   "source": [
    "### Window Functions\n",
    "# Create a function to calculate the 10 day SMA, 20 day EMWA, and create the cumulative sum of the NVDA col\n",
    "def window_functions(df, window1, window2):\n",
    "    # Calculate the 10 day SMA\n",
    "    df['10_SMA'] = df['NVDA'].rolling(window = window1).mean() \n",
    "    # Calculate the 20 day EMWA\n",
    "    df['20_EWMA'] = df['NVDA'].ewm(span = window2, adjust = False).mean()\n",
    "    # Calculate Cumulative sum of the NVDA col\n",
    "    df['Cum_Sum'] = df['NVDA'].expanding().sum()\n",
    "    # Calculate the Rolling Sum\n",
    "    df['Roll_Sum'] = df['NVDA'].rolling(window = window1).sum() \n",
    "\n",
    "    return df\n",
    "\n",
    "stock_data_new = window_functions(stock_data, window1=10, window2=20)\n",
    "print(stock_data_new.tail())\n"
   ]
  },
  {
   "cell_type": "markdown",
   "metadata": {},
   "source": [
    "### Shift/Lag Analysis\n",
    "\n",
    "- **`DataFrame.shift()`** - Shift index by the specified number of periods, with an optional time `freq`.\n",
    "  - **Use Case:** Useful for creating lagged features in time series data or for aligning data with a previous time step.\n",
    "\n",
    "- **`DataFrame.diff()`** - Compute the difference between consecutive elements in a DataFrame.\n",
    "  - **Use Case:** Commonly used to compute changes between periods, such as daily price changes or differences in other time series data.\n",
    "\n",
    "- **`DataFrame.pct_change()`** - Calculate the percentage change between the current and prior element.\n",
    "  - **Use Case:** Useful for calculating returns or percentage changes in time series data, such as daily stock returns.\n",
    "\n",
    "- **`DataFrame.cumsum()`** - Compute the cumulative sum of DataFrame columns.\n",
    "  - **Use Case:** Helpful for understanding the accumulation of values over time, such as cumulative profit.\n",
    "\n",
    "- **`DataFrame.cummax()`** - Compute the cumulative maximum of DataFrame columns.\n",
    "  - **Use Case:** Useful for identifying peak values over time, often used in drawdown analysis.\n",
    "\n",
    "- **`DataFrame.cummin()`** - Compute the cumulative minimum of DataFrame columns.\n",
    "  - **Use Case:** Used for monitoring the lowest values over time, which can be useful in various analyses, including drawdown.\n",
    "\n",
    "- **`DataFrame.cumprod()`** - Compute the cumulative product of DataFrame columns.\n",
    "  - **Use Case:** Often used in financial analysis to calculate the growth of an investment over time when considering compounded returns.\n"
   ]
  },
  {
   "cell_type": "code",
   "execution_count": 20,
   "metadata": {},
   "outputs": [
    {
     "name": "stdout",
     "output_type": "stream",
     "text": [
      "0    1.394014e+02\n",
      "1    1.954414e+04\n",
      "2    2.694806e+06\n",
      "3    3.698185e+08\n",
      "4    5.191153e+10\n",
      "Name: GOOG, dtype: float64\n"
     ]
    }
   ],
   "source": [
    "### Shift/Lag Functions\n",
    "# Create a function to perform the above actions\n",
    "def shift_lag(df):\n",
    "    # Shift the GOOG column down by 1 period, effectively lagging the data\n",
    "    df['shifted'] = df['GOOG'].shift(periods = 1)\n",
    "    # Calculate the difference between the current and previous row in the GOOG column\n",
    "    df['difference'] = df['GOOG'].diff(periods = 1)\n",
    "    # Compute the percentage change from one period to the next in the GOOG column\n",
    "    df['pct change'] = df['GOOG'].pct_change(periods = 1)\n",
    "    # Calculate the cumulative sum of the GOOG column over time\n",
    "    df['cumsum'] = df['GOOG'].cumsum()\n",
    "    # Track the highest value encountered so far in the GOOG column\n",
    "    df['cummax'] = df['GOOG'].cummax()\n",
    "    # Track the lowest value encountered so far in the GOOG column\n",
    "    df['cummin'] = df['GOOG'].cummin()\n",
    "\n",
    "    # Calculate the cumulative product of the first 5 values in the GOOG column\n",
    "    cumprod_first5 = df['GOOG'].iloc[:5].cumprod()\n",
    "\n",
    "    return df, cumprod_first5\n",
    "\n",
    "shift_lag_df, cumprod_first5 = shift_lag(stock_data)\n",
    "#print(shift_lag_df.tail())\n",
    "print(cumprod_first5)\n"
   ]
  }
 ],
 "metadata": {
  "kernelspec": {
   "display_name": "base",
   "language": "python",
   "name": "python3"
  },
  "language_info": {
   "codemirror_mode": {
    "name": "ipython",
    "version": 3
   },
   "file_extension": ".py",
   "mimetype": "text/x-python",
   "name": "python",
   "nbconvert_exporter": "python",
   "pygments_lexer": "ipython3",
   "version": "3.8.18"
  }
 },
 "nbformat": 4,
 "nbformat_minor": 2
}
