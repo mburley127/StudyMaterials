{
 "cells": [
  {
   "cell_type": "code",
   "execution_count": 5,
   "metadata": {},
   "outputs": [],
   "source": [
    "### Math and Statistics Functions\n",
    "# scipy\n",
    "# statsmodels\n",
    "# pandas\n",
    "\n",
    "### Library Imports\n",
    "import pandas as pd                 # For data manipulation and analysis\n"
   ]
  },
  {
   "cell_type": "code",
   "execution_count": 15,
   "metadata": {},
   "outputs": [
    {
     "name": "stdout",
     "output_type": "stream",
     "text": [
      "   Group_A  Group_B  Metric_1  Metric_2       Date\n",
      "0       25       22        10         8 2023-01-31\n",
      "1       30       27        15        14 2023-02-28\n",
      "2       35       34        20        19 2023-03-31\n",
      "3       40       38        25        24 2023-04-30\n",
      "4       45       44        30        29 2023-05-31\n",
      "5       50       48        35        33 2023-06-30\n",
      "6       55       53        40        39 2023-07-31\n",
      "7       60       61        45        43 2023-08-31\n",
      "8       65       64        50        49 2023-09-30\n",
      "9       70       68        55        52 2023-10-31\n"
     ]
    }
   ],
   "source": [
    "### Create the DataFrame\n",
    "data = {\n",
    "    'Group_A': [25, 30, 35, 40, 45, 50, 55, 60, 65, 70],\n",
    "    'Group_B': [22, 27, 34, 38, 44, 48, 53, 61, 64, 68],\n",
    "    'Metric_1': [10, 15, 20, 25, 30, 35, 40, 45, 50, 55],\n",
    "    'Metric_2': [8, 14, 19, 24, 29, 33, 39, 43, 49, 52],\n",
    "    'Date': pd.date_range(start='2023-01-01', periods=10, freq='M')\n",
    "}\n",
    "\n",
    "df = pd.DataFrame(data)\n",
    "print(df)\n"
   ]
  },
  {
   "cell_type": "markdown",
   "metadata": {},
   "source": [
    "#### Scipy Functions\n",
    "\n",
    "- **scipy.stats.ttest_ind()** - Perform a T-test for the means of two independent samples.\n",
    "  - **Example:** `scipy.stats.ttest_ind(sample1, sample2)` - Tests if the means of two independent samples are significantly different.\n",
    "\n",
    "- **`scipy.stats.linregress()`** - Perform linear regression on two sets of measurements.\n",
    "  - **Example:** `slope, intercept, r_value, p_value, std_err = scipy.stats.linregress(x, y)` - Computes a linear regression model and returns statistics like the slope, intercept, and R-squared value.\n",
    "\n",
    "- **`scipy.stats.norm.ppf()`** - Calculate the percent point function (inverse of CDF) for a normal distribution.\n",
    "  - **Example:** `z_value = scipy.stats.norm.ppf(0.975)` - Calculates the z-value corresponding to a 97.5% confidence level.\n",
    "\n",
    "- **`scipy.stats.norm.cdf()`** - Calculate the cumulative distribution function for a normal distribution.\n",
    "  - **Example:** `probability = scipy.stats.norm.cdf(x_value)` - Calculates the probability that a value drawn from a normal distribution is less than or equal to `x_value`.\n",
    "\n",
    "- **`scipy.optimize.minimize()`** - Perform minimization of a scalar function.\n",
    "  - **Example:** `result = scipy.optimize.minimize(func, initial_guess)` - Minimizes a function `func` starting from an initial guess.\n",
    "\n",
    "- **`scipy.integrate.quad()`** - Perform numerical integration of a function.\n",
    "  - **Example:** `integral, error = scipy.integrate.quad(func, a, b)` - Integrates the function `func` from `a` to `b`.\n"
   ]
  },
  {
   "cell_type": "code",
   "execution_count": 16,
   "metadata": {},
   "outputs": [
    {
     "name": "stdout",
     "output_type": "stream",
     "text": [
      "T-statistic: 0.23154656767745735, P-value: 0.8195020042345589\n"
     ]
    }
   ],
   "source": [
    "### Perform a T-test for the means of two independent samples\n",
    "from scipy.stats import ttest_ind\n",
    "\n",
    "# Perform T-test\n",
    "t_stat, p_value = ttest_ind(df['Group_A'], df['Group_B'])\n",
    "\n",
    "print(f\"T-statistic: {t_stat}, P-value: {p_value}\")"
   ]
  },
  {
   "cell_type": "code",
   "execution_count": 17,
   "metadata": {},
   "outputs": [
    {
     "name": "stdout",
     "output_type": "stream",
     "text": [
      "Slope: 0.9818181818181818, Intercept: -0.9090909090909101, R-squared: 0.9980832420591457\n"
     ]
    }
   ],
   "source": [
    "### Perform linear regression on two sets of measurements\n",
    "from scipy.stats import linregress\n",
    "\n",
    "# Perform linear regression\n",
    "slope, intercept, r_value, p_value, std_err = linregress(df['Metric_1'], df['Metric_2'])\n",
    "\n",
    "print(f\"Slope: {slope}, Intercept: {intercept}, R-squared: {r_value**2}\")\n"
   ]
  },
  {
   "cell_type": "code",
   "execution_count": 18,
   "metadata": {},
   "outputs": [
    {
     "name": "stdout",
     "output_type": "stream",
     "text": [
      "Probability that a value ≤ 50: 0.8884912650266925\n"
     ]
    }
   ],
   "source": [
    "### Calculate the probability that a value drawn from a normal distribution is less than or equal to 50\n",
    "from scipy.stats import norm\n",
    "\n",
    "# Calculate cumulative distribution function value\n",
    "probability = norm.cdf(50, loc = np.mean(df['Metric_1']), scale = np.std(df['Metric_1']))\n",
    "\n",
    "print(f\"Probability that a value ≤ 50: {probability}\")"
   ]
  },
  {
   "cell_type": "code",
   "execution_count": 21,
   "metadata": {},
   "outputs": [
    {
     "name": "stdout",
     "output_type": "stream",
     "text": [
      "Integral of f(x) = 3x^2 + e^sqrt(x) from 0 to 1: 3.000000000000001\n"
     ]
    }
   ],
   "source": [
    "### Perform numerical integration of the function f(x) = 3x^2 + e^sqrt(x) from 0 to 1\n",
    "from scipy.integrate import quad\n",
    "\n",
    "# Define the function to integrate\n",
    "def func(x):\n",
    "    return 3*(x ** 2) + np.exp(np.sqrt(x))\n",
    "\n",
    "# Perform numerical integration\n",
    "integral, error = quad(func, 0, 1)\n",
    "\n",
    "print(f\"Integral of f(x) = 3x^2 + e^sqrt(x) from 0 to 1: {integral}\")\n"
   ]
  },
  {
   "cell_type": "markdown",
   "metadata": {},
   "source": [
    "#### Stats Models Functions\n",
    "- **`statsmodels.tsa.stattools.adfuller()`** - Perform the Augmented Dickey-Fuller (ADF) test for stationarity.\n",
    "  - **Example:** `adf_result = statsmodels.tsa.stattools.adfuller(time_series)` - Tests if a time series is stationary.\n",
    "\n",
    "- **`statsmodels.tsa.stattools.kpss()`** - Perform the KPSS test for stationarity.\n",
    "  - **Example:** `kpss_result = statsmodels.tsa.stattools.kpss(time_series)` - Tests for stationarity of a time series.\n",
    "\n",
    "- **`statsmodels.tsa.seasonal.seasonal_decompose()`** - Decompose a time series into trend, seasonal, and residual components.\n",
    "  - **Example:** `decomposition = statsmodels.tsa.seasonal.seasonal_decompose(time_series, model='additive')` - Decomposes the time series into its components.\n"
   ]
  },
  {
   "cell_type": "code",
   "execution_count": 23,
   "metadata": {},
   "outputs": [
    {
     "name": "stdout",
     "output_type": "stream",
     "text": [
      "ADF Statistic: -1.693973863795058, P-value: 0.4342199676184899\n"
     ]
    }
   ],
   "source": [
    "### Test if Metric_2 col is stationary using adf\n",
    "from statsmodels.tsa.stattools import adfuller\n",
    "\n",
    "# Perform ADF test\n",
    "adf_result = adfuller(df['Metric_2'])\n",
    "\n",
    "print(f\"ADF Statistic: {adf_result[0]}, P-value: {adf_result[1]}\")\n"
   ]
  },
  {
   "cell_type": "code",
   "execution_count": null,
   "metadata": {},
   "outputs": [],
   "source": [
    "### Decompose the Metric_1 time series into trend, seasonal, and residual components\n",
    "from statsmodels.tsa.seasonal import seasonal_decompose\n",
    "\n",
    "# Decompose the time series\n",
    "decomposition = seasonal_decompose(df['Metric_1'], model='additive', period=1)\n",
    "\n",
    "# Plot the decomposed components\n",
    "decomposition.plot()\n"
   ]
  },
  {
   "cell_type": "markdown",
   "metadata": {},
   "source": [
    "### Pandas Functions\n",
    "- **`pandas.DataFrame.corr()`** - Compute pairwise correlation of columns.\n",
    "  - **`Example: correlation_matrix = df.corr()`** - Computes the correlation matrix of the DataFrame's columns.\n",
    "\n",
    "- **`pandas.DataFrame.cov()`** - Compute pairwise covariance of columns.\n",
    "  - **`Example: covariance_matrix`** = df.cov() - Computes the covariance matrix of the DataFrame's columns."
   ]
  },
  {
   "cell_type": "code",
   "execution_count": 26,
   "metadata": {},
   "outputs": [
    {
     "name": "stdout",
     "output_type": "stream",
     "text": [
      "The covariance is: 229.16666666666666 and the correlation is: 1.0\n"
     ]
    }
   ],
   "source": [
    "### Compute the covariance and correlation of Metric_1 col\n",
    "cov = df['Metric_1'].cov(df['Metric_1'])\n",
    "corr = df['Metric_1'].corr(df['Metric_1'])\n",
    "\n",
    "print(f'The covariance is: {cov} and the correlation is: {corr}')"
   ]
  }
 ],
 "metadata": {
  "kernelspec": {
   "display_name": "base",
   "language": "python",
   "name": "python3"
  },
  "language_info": {
   "codemirror_mode": {
    "name": "ipython",
    "version": 3
   },
   "file_extension": ".py",
   "mimetype": "text/x-python",
   "name": "python",
   "nbconvert_exporter": "python",
   "pygments_lexer": "ipython3",
   "version": "3.8.18"
  }
 },
 "nbformat": 4,
 "nbformat_minor": 2
}
