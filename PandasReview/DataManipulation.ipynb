{
 "cells": [
  {
   "cell_type": "code",
   "execution_count": 49,
   "metadata": {},
   "outputs": [],
   "source": [
    "### Covered in this section are the following concepts:\n",
    "# Column/Row Operations\n",
    "# Sorting and Ranking\n",
    "# Aggregation and Grouping\n",
    "\n",
    "### Library Imports\n",
    "import pandas as pd\n",
    "import yfinance as yf"
   ]
  },
  {
   "cell_type": "code",
   "execution_count": 50,
   "metadata": {},
   "outputs": [
    {
     "name": "stderr",
     "output_type": "stream",
     "text": [
      "[*********************100%%**********************]  1 of 1 completed\n",
      "[*********************100%%**********************]  1 of 1 completed\n",
      "[*********************100%%**********************]  1 of 1 completed\n"
     ]
    }
   ],
   "source": [
    "### Create a Function to Populate the DataFrame\n",
    "def get_data(tickers, start_date, end_date):\n",
    "    # Create an empty DataFrame\n",
    "    stock_data = pd.DataFrame()\n",
    "    # Populate the DataFrame with adjusted close prices for each ticker\n",
    "    for ticker in tickers:\n",
    "        # Download data for the current ticker\n",
    "        stock_data[ticker] = yf.download(ticker, start = start_date, end = end_date)['Adj Close']\n",
    "        # Reset index\n",
    "        stock_data.reset_index()\n",
    "    \n",
    "    return stock_data\n",
    "\n",
    "# Function Call\n",
    "tickers = ['GOOG', 'AAPL', 'NVDA']\n",
    "start_date = '2024-01-01'\n",
    "end_date = '2024-08-01'\n",
    "stock_data = get_data(tickers, start_date, end_date)"
   ]
  },
  {
   "cell_type": "markdown",
   "metadata": {},
   "source": [
    "#### Column/Row Operations\n",
    "- `DataFrame.apply()` - Apply a function along an axis of the DataFrame, useful for functions applied to rows or columns.\n",
    "- `DataFrame.assign()` - Add new columns to a DataFrame, returning a new object with all original and new columns.\n",
    "- `DataFrame.drop()` - Remove specified labels from rows or columns.\n",
    "- `Series.map()` - Apply a mapping or function to the elements of the Series.\n",
    "- `DataFrame.drop_duplicates()` - Remove duplicate rows, optionally considering specific columns.\n",
    "- `DataFrame.rename()` - Alter axes labels.\n",
    "- `DataFrame.reset_index()` - Reset the index of the DataFrame, and use the default one instead.\n"
   ]
  },
  {
   "cell_type": "code",
   "execution_count": 51,
   "metadata": {},
   "outputs": [
    {
     "data": {
      "text/html": [
       "<div>\n",
       "<style scoped>\n",
       "    .dataframe tbody tr th:only-of-type {\n",
       "        vertical-align: middle;\n",
       "    }\n",
       "\n",
       "    .dataframe tbody tr th {\n",
       "        vertical-align: top;\n",
       "    }\n",
       "\n",
       "    .dataframe thead th {\n",
       "        text-align: right;\n",
       "    }\n",
       "</style>\n",
       "<table border=\"1\" class=\"dataframe\">\n",
       "  <thead>\n",
       "    <tr style=\"text-align: right;\">\n",
       "      <th></th>\n",
       "      <th>Date</th>\n",
       "      <th>GOOG</th>\n",
       "      <th>XYZ</th>\n",
       "    </tr>\n",
       "  </thead>\n",
       "  <tbody>\n",
       "    <tr>\n",
       "      <th>141</th>\n",
       "      <td>2024-04-10</td>\n",
       "      <td>157.480804</td>\n",
       "      <td>167.359024</td>\n",
       "    </tr>\n",
       "    <tr>\n",
       "      <th>142</th>\n",
       "      <td>2024-04-18</td>\n",
       "      <td>157.281021</td>\n",
       "      <td>166.620880</td>\n",
       "    </tr>\n",
       "    <tr>\n",
       "      <th>143</th>\n",
       "      <td>2024-04-23</td>\n",
       "      <td>159.738220</td>\n",
       "      <td>166.481216</td>\n",
       "    </tr>\n",
       "    <tr>\n",
       "      <th>144</th>\n",
       "      <td>2024-04-22</td>\n",
       "      <td>157.770462</td>\n",
       "      <td>165.423874</td>\n",
       "    </tr>\n",
       "    <tr>\n",
       "      <th>145</th>\n",
       "      <td>2024-04-19</td>\n",
       "      <td>155.542999</td>\n",
       "      <td>164.585999</td>\n",
       "    </tr>\n",
       "  </tbody>\n",
       "</table>\n",
       "</div>"
      ],
      "text/plain": [
       "          Date        GOOG         XYZ\n",
       "141 2024-04-10  157.480804  167.359024\n",
       "142 2024-04-18  157.281021  166.620880\n",
       "143 2024-04-23  159.738220  166.481216\n",
       "144 2024-04-22  157.770462  165.423874\n",
       "145 2024-04-19  155.542999  164.585999"
      ]
     },
     "execution_count": 51,
     "metadata": {},
     "output_type": "execute_result"
    }
   ],
   "source": [
    "### Column and Row Operations\n",
    "\n",
    "# Drop the NVDA col\n",
    "new_df = stock_data.drop(columns = ['NVDA'])\n",
    "new_df.tail()\n",
    "\n",
    "# Drop duplicates in full df\n",
    "new_df.drop_duplicates()\n",
    "\n",
    "# Rename AAPL column to XYZ\n",
    "new_df = new_df.rename(columns = {'AAPL': 'XYZ'})\n",
    "\n",
    "# Reset index \n",
    "new_df.reset_index(inplace = True)\n",
    "\n",
    "new_df.tail()"
   ]
  },
  {
   "cell_type": "markdown",
   "metadata": {},
   "source": [
    "#### Sorting and Ranking\n",
    "- `DataFrame.sort_values()` - Sort DataFrame by the values along either axis.\n",
    "- `DataFrame.sort_index()` - Sort DataFrame by its index.\n",
    "- `DataFrame.rank()` - Assign ranks to entries in the DataFrame, with options for different ranking methods.\n",
    "- `DataFrame.nsmallest()` - Return the first `n` rows with the smallest values in specified columns.\n",
    "- `DataFrame.nlargest()` - Return the first `n` rows with the largest values in specified columns.\n",
    "\n"
   ]
  },
  {
   "cell_type": "code",
   "execution_count": 60,
   "metadata": {},
   "outputs": [],
   "source": [
    "### Sorting and Ranking\n",
    "\n",
    "# Sort GOOG column into descending order\n",
    "sort_vals = stock_data.sort_values(by = 'GOOG', ascending = False, inplace = True)\n",
    "\n",
    "# Sort index into descending\n",
    "sorted_index = stock_data.sort_index(ascending = False, inplace = True)\n",
    "\n",
    "# Get a df with the 5 largest values in GOOG col\n",
    "top5 = stock_data.nlargest(5, 'GOOG')\n"
   ]
  },
  {
   "cell_type": "markdown",
   "metadata": {},
   "source": [
    "#### Aggregation and Grouping\n",
    "- `DataFrame.groupby()` - Group DataFrame using a mapper or by a series of columns, applying a function to each group independently.\n",
    "- `DataFrame.pivot_table()` - Create a spreadsheet-style pivot table as a DataFrame.\n",
    "- `DataFrame.agg()` - Aggregate data using one or more operations over specified axis.\n",
    "- `pd.concat()` - Concatenate two or more DataFrames along a particular axis.\n",
    "- `pd.merge()` - Merge DataFrame objects by performing a database-style join operation by columns or indexes.\n"
   ]
  },
  {
   "cell_type": "code",
   "execution_count": 79,
   "metadata": {},
   "outputs": [
    {
     "name": "stdout",
     "output_type": "stream",
     "text": [
      "        Amount  Profit\n",
      "Item                  \n",
      "Laptop    3500     750\n",
      "Phone     1650     330\n",
      "Tablet    1950     350\n",
      "Amount    7100.00\n",
      "Profit     178.75\n",
      "dtype: float64\n",
      "       Amount      \n",
      "          min   max\n",
      "Item               \n",
      "Laptop   1000  1300\n",
      "Phone     800   850\n",
      "Tablet    600   700\n",
      "     Item Date_Bought   Date_Sold  Amount  Profit    Store Region\n",
      "0  Laptop  2023-01-01  2023-01-10    1000     200  Store_A  North\n",
      "1  Laptop  2023-01-01  2023-01-10    1000     200  Store_A  North\n",
      "2  Laptop  2023-01-05  2023-01-15    1200     250  Store_A  North\n",
      "3  Laptop  2023-01-05  2023-01-15    1200     250  Store_A  North\n",
      "4  Laptop  2023-01-13  2023-01-25    1300     300  Store_A  North\n",
      "5  Laptop  2023-01-13  2023-01-25    1300     300  Store_A  North\n"
     ]
    }
   ],
   "source": [
    "### Aggregation and Grouping\n",
    "df1 = pd.DataFrame({\n",
    "    'Item': ['Laptop', 'Tablet', 'Laptop', 'Phone', 'Tablet', 'Phone', 'Laptop', 'Tablet'],\n",
    "    'Date_Bought': ['2023-01-01', '2023-01-03', '2023-01-05', '2023-01-07', '2023-01-09', '2023-01-11', '2023-01-13', '2023-01-15'],\n",
    "    'Date_Sold': ['2023-01-10', '2023-01-12', '2023-01-15', '2023-01-18', '2023-01-20', '2023-01-22', '2023-01-25', '2023-01-28'],\n",
    "    'Amount': [1000, 600, 1200, 800, 650, 850, 1300, 700],\n",
    "    'Profit': [200, 100, 250, 150, 120, 180, 300, 130]\n",
    "})\n",
    "df2 = pd.DataFrame({\n",
    "    'Item': ['Laptop', 'Tablet', 'Phone', 'Laptop', 'Tablet', 'Phone'],\n",
    "    'Store': ['Store_A', 'Store_B', 'Store_C', 'Store_A', 'Store_B', 'Store_C'],\n",
    "    'Region': ['North', 'South', 'East', 'North', 'South', 'East']\n",
    "})\n",
    "# Group the sales data by Item and calculate the total Amount and Profit for each item\n",
    "grouped_sales = df1.groupby('Item').sum()\n",
    "print(grouped_sales[['Amount', 'Profit']])\n",
    "\n",
    "# Aggregate the sales data to calculate the total Amount and the average Profit across all sales\n",
    "aggregated_data = df1.agg({'Amount': 'sum', 'Profit': 'mean'})\n",
    "print(aggregated_data)\n",
    "\n",
    "# Aggregate the sales data to find the minimum and maximum Amount sold for each Item.\"\n",
    "aggregated_item_data = df1.groupby('Item').agg({'Amount': ['min', 'max']})\n",
    "print(aggregated_item_data)\n",
    "\n",
    "# Concatenate the sales DataFrame with the store information DataFrame along the rows\n",
    "concatenated_data = pd.concat([df1, df2], axis = 0, ignore_index = True)\n",
    "#print(concatenated_data)\n",
    "\n",
    "# Merge the sales DataFrame with the store information DataFrame on the Item column\n",
    "merged_data = pd.merge(df1, df2, on = 'Item')\n",
    "\n",
    "# Merge the sales DataFrame with the store information DataFrame to include only sales that occurred in the North region\n",
    "north_sales = pd.merge(df1, df2[df2['Region'] == 'North'], on = 'Item')\n",
    "print(north_sales)\n"
   ]
  }
 ],
 "metadata": {
  "kernelspec": {
   "display_name": "base",
   "language": "python",
   "name": "python3"
  },
  "language_info": {
   "codemirror_mode": {
    "name": "ipython",
    "version": 3
   },
   "file_extension": ".py",
   "mimetype": "text/x-python",
   "name": "python",
   "nbconvert_exporter": "python",
   "pygments_lexer": "ipython3",
   "version": "3.8.18"
  }
 },
 "nbformat": 4,
 "nbformat_minor": 2
}
