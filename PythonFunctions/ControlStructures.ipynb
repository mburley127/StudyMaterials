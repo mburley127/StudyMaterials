{
 "cells": [
  {
   "cell_type": "code",
   "execution_count": null,
   "metadata": {},
   "outputs": [],
   "source": [
    "### Covered in this section are the following concepts:\n",
    "# Conditional Statements (if, elif, else)\n",
    "# Loops (for, while)\n",
    "# Loop Controls (break, continue, pass)\n",
    "# Error Handling (Try, Except)\n",
    "# Lambda Functions\n",
    "\n",
    "### Library Imports\n"
   ]
  }
 ],
 "metadata": {
  "language_info": {
   "name": "python"
  }
 },
 "nbformat": 4,
 "nbformat_minor": 2
}
