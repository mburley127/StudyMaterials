{
 "cells": [
  {
   "cell_type": "code",
   "execution_count": 1,
   "metadata": {},
   "outputs": [],
   "source": [
    "### Library Imports\n",
    "import numpy as np\n",
    "import pandas as pd\n",
    "import yfinance as yf\n",
    "import matplotlib.pyplot as plt\n",
    "import matplotlib.dates as mdates\n",
    "import seaborn as sns\n",
    "from scipy.stats import norm\n",
    "from sklearn.linear_model import LinearRegression\n",
    "import warnings\n",
    "warnings.filterwarnings(\"ignore\")\n"
   ]
  },
  {
   "cell_type": "code",
   "execution_count": 2,
   "metadata": {},
   "outputs": [
    {
     "name": "stderr",
     "output_type": "stream",
     "text": [
      "[*********************100%%**********************]  1 of 1 completed"
     ]
    },
    {
     "name": "stdout",
     "output_type": "stream",
     "text": [
      "          Date        AAPL\n",
      "141 2024-07-25  217.238556\n",
      "142 2024-07-26  217.708008\n",
      "143 2024-07-29  217.987686\n",
      "144 2024-07-30  218.547043\n",
      "145 2024-07-31  221.823242\n"
     ]
    },
    {
     "name": "stderr",
     "output_type": "stream",
     "text": [
      "\n"
     ]
    }
   ],
   "source": [
    "### Import Stock Data\n",
    "def get_data(tickers, start_date, end_date):\n",
    "    data = pd.DataFrame()\n",
    "    for ticker in tickers:\n",
    "        data[ticker] = yf.download(ticker, start_date, end_date)['Adj Close']\n",
    "        # Reset Headers to be in the same row\n",
    "        data.reset_index(inplace = True)\n",
    "    \n",
    "    return data\n",
    "\n",
    "### Return Stock Data\n",
    "tickers = ['AAPL']  # Ticker symbol for the S&P 500\n",
    "start_date = '2024-01-01'\n",
    "end_date = '2024-08-01'\n",
    "stock_data = get_data(tickers, start_date, end_date)\n",
    "print(stock_data.tail())\n"
   ]
  },
  {
   "cell_type": "code",
   "execution_count": 10,
   "metadata": {},
   "outputs": [
    {
     "name": "stdout",
     "output_type": "stream",
     "text": [
      "          Date        AAPL   Drawdown       MDD    Peak Val  Drawdowns\n",
      "141 2024-07-25  217.238556  17.309967  0.073801  234.548523  17.309967\n",
      "142 2024-07-26  217.708008  16.840515  0.071800  234.548523  16.840515\n",
      "143 2024-07-29  217.987686  16.560837  0.070607  234.548523  16.560837\n",
      "144 2024-07-30  218.547043  16.001480  0.068222  234.548523  16.001480\n",
      "145 2024-07-31  221.823242  12.725281  0.054254  234.548523  12.725281\n"
     ]
    }
   ],
   "source": [
    "### Compute Drawdowns\n",
    "def compute_drawdowns(stock_data):\n",
    "    # Calculate Cumulative Maximum (Peak Value)\n",
    "    stock_data['Peak Val'] = stock_data['AAPL'].cummax()\n",
    "    # Calculate Drawdown (Trough Value - Peak Value)\n",
    "    ''' \n",
    "    Difference between the cumulative maximum and the current price at each time point\n",
    "    '''\n",
    "    stock_data['Drawdowns'] = stock_data['Peak Val'] - stock_data['AAPL']\n",
    "    # Calculate the Maximum Drawdown = [(Trough Value - Peak Value) / (Peak Value)]\n",
    "    stock_data['MDD'] = stock_data['Drawdowns'] / stock_data['Peak Val']\n",
    "\n",
    "    return stock_data\n",
    "\n",
    "updated_stock_data = compute_drawdowns(stock_data)\n",
    "print(updated_stock_data.tail())\n"
   ]
  },
  {
   "cell_type": "code",
   "execution_count": 15,
   "metadata": {},
   "outputs": [
    {
     "name": "stdout",
     "output_type": "stream",
     "text": [
      "0      False\n",
      "1      False\n",
      "2      False\n",
      "3       True\n",
      "4      False\n",
      "       ...  \n",
      "141     True\n",
      "142    False\n",
      "143    False\n",
      "144    False\n",
      "145    False\n",
      "Name: Local Minima, Length: 146, dtype: bool\n"
     ]
    }
   ],
   "source": [
    "### Calculate N Maximum Drawdowns\n",
    "def max_drawdowns(updated_stock_data, n):\n",
    "    # Find local minima by comparing shifts\n",
    "    ''' \n",
    "    Must check the following for each data point in the drawdown series:\n",
    "    Whether the drawdown at the current index is greater than the drawdown at the next index (shift(-1) which shifts the data upwards)\n",
    "    Whether the drawdown at the current index is also greater than the drawdown at the previous index (shift(1) which shifts the data downwards)\n",
    "\n",
    "    True: Indicates that the value at that index is a local minimum, meaning it is greater than the values immediately \n",
    "    before and after it in the series. This suggests a trough point in a drawdown scenario.\n",
    "    '''\n",
    "    updated_stock_data['Local Minima'] = (updated_stock_data['Drawdowns'] > updated_stock_data['Drawdowns'].shift(-1)) & (updated_stock_data['Drawdowns'] > updated_stock_data['Drawdowns'].shift(1))\n",
    "    #print(updated_stock_data['Local Minima'])\n",
    "    \n",
    "\n",
    "    return updated_stock_data\n",
    "\n",
    "final_df = max_drawdowns(updated_stock_data, n = 5)\n"
   ]
  },
  {
   "cell_type": "code",
   "execution_count": null,
   "metadata": {},
   "outputs": [],
   "source": [
    "### Display Graph of Data with Drawdowns\n",
    "\n"
   ]
  }
 ],
 "metadata": {
  "kernelspec": {
   "display_name": "base",
   "language": "python",
   "name": "python3"
  },
  "language_info": {
   "codemirror_mode": {
    "name": "ipython",
    "version": 3
   },
   "file_extension": ".py",
   "mimetype": "text/x-python",
   "name": "python",
   "nbconvert_exporter": "python",
   "pygments_lexer": "ipython3",
   "version": "3.8.18"
  }
 },
 "nbformat": 4,
 "nbformat_minor": 2
}
